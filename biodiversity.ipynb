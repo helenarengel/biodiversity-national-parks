{
 "cells": [
  {
   "cell_type": "markdown",
   "metadata": {},
   "source": [
    "# Introduction \n",
    "\n",
    "This project is part of the Data Science Foundations Portfolio from Codecademy DS Path. It is not part of any real-life project and conclusions are my own, based on the data analysis performed.\n",
    "\n",
    "\n",
    "### Data\n",
    "\n",
    "For this project, two datasets have been provided. The first csv file contains information about each species and the other collected observations / sightings of species and the park locations where they occured. \n",
    "\n",
    "### Goal\n",
    "\n",
    "The National Parks Services collects data about endangered species in different parks. I will perform some data analysis on the conservation statuses of these species and try to find patterns or themes to the types of species that become endagered and other meaningful insights. The main questions are:\n",
    "\n",
    "- What is the distribution of conservation status by category?\n",
    "- Is there any category more likely to be endangered than others?\n",
    "- What is the distribution of observations by park and by category?\n",
    "- What is the distribution of observations by conservation status and by category?"
   ]
  },
  {
   "cell_type": "markdown",
   "metadata": {},
   "source": [
    "# Import Python modules"
   ]
  },
  {
   "cell_type": "code",
   "execution_count": 118,
   "metadata": {},
   "outputs": [],
   "source": [
    "import pandas as pd\n",
    "import numpy as np\n",
    "\n",
    "from matplotlib import pyplot as plt\n",
    "import seaborn as sns\n",
    "\n",
    "%matplotlib inline"
   ]
  },
  {
   "cell_type": "markdown",
   "metadata": {},
   "source": [
    "# Load Data\n"
   ]
  },
  {
   "cell_type": "markdown",
   "metadata": {},
   "source": [
    "First, I will load the csv files into 2 dataframes and describe each variable:"
   ]
  },
  {
   "cell_type": "code",
   "execution_count": 119,
   "metadata": {},
   "outputs": [],
   "source": [
    "species = pd.read_csv(\"species_info.csv\", encoding='utf-8')"
   ]
  },
  {
   "cell_type": "code",
   "execution_count": 120,
   "metadata": {},
   "outputs": [],
   "source": [
    "observations = pd.read_csv(\"observations.csv\", encoding='utf-8')"
   ]
  },
  {
   "cell_type": "code",
   "execution_count": 121,
   "metadata": {},
   "outputs": [
    {
     "data": {
      "text/html": [
       "<div>\n",
       "<style scoped>\n",
       "    .dataframe tbody tr th:only-of-type {\n",
       "        vertical-align: middle;\n",
       "    }\n",
       "\n",
       "    .dataframe tbody tr th {\n",
       "        vertical-align: top;\n",
       "    }\n",
       "\n",
       "    .dataframe thead th {\n",
       "        text-align: right;\n",
       "    }\n",
       "</style>\n",
       "<table border=\"1\" class=\"dataframe\">\n",
       "  <thead>\n",
       "    <tr style=\"text-align: right;\">\n",
       "      <th></th>\n",
       "      <th>category</th>\n",
       "      <th>scientific_name</th>\n",
       "      <th>common_names</th>\n",
       "      <th>conservation_status</th>\n",
       "    </tr>\n",
       "  </thead>\n",
       "  <tbody>\n",
       "    <tr>\n",
       "      <th>0</th>\n",
       "      <td>Mammal</td>\n",
       "      <td>Clethrionomys gapperi gapperi</td>\n",
       "      <td>Gapper's Red-Backed Vole</td>\n",
       "      <td>NaN</td>\n",
       "    </tr>\n",
       "    <tr>\n",
       "      <th>1</th>\n",
       "      <td>Mammal</td>\n",
       "      <td>Bos bison</td>\n",
       "      <td>American Bison, Bison</td>\n",
       "      <td>NaN</td>\n",
       "    </tr>\n",
       "    <tr>\n",
       "      <th>2</th>\n",
       "      <td>Mammal</td>\n",
       "      <td>Bos taurus</td>\n",
       "      <td>Aurochs, Aurochs, Domestic Cattle (Feral), Dom...</td>\n",
       "      <td>NaN</td>\n",
       "    </tr>\n",
       "    <tr>\n",
       "      <th>3</th>\n",
       "      <td>Mammal</td>\n",
       "      <td>Ovis aries</td>\n",
       "      <td>Domestic Sheep, Mouflon, Red Sheep, Sheep (Feral)</td>\n",
       "      <td>NaN</td>\n",
       "    </tr>\n",
       "    <tr>\n",
       "      <th>4</th>\n",
       "      <td>Mammal</td>\n",
       "      <td>Cervus elaphus</td>\n",
       "      <td>Wapiti Or Elk</td>\n",
       "      <td>NaN</td>\n",
       "    </tr>\n",
       "    <tr>\n",
       "      <th>5</th>\n",
       "      <td>Mammal</td>\n",
       "      <td>Odocoileus virginianus</td>\n",
       "      <td>White-Tailed Deer</td>\n",
       "      <td>NaN</td>\n",
       "    </tr>\n",
       "    <tr>\n",
       "      <th>6</th>\n",
       "      <td>Mammal</td>\n",
       "      <td>Sus scrofa</td>\n",
       "      <td>Feral Hog, Wild Pig</td>\n",
       "      <td>NaN</td>\n",
       "    </tr>\n",
       "    <tr>\n",
       "      <th>7</th>\n",
       "      <td>Mammal</td>\n",
       "      <td>Canis latrans</td>\n",
       "      <td>Coyote</td>\n",
       "      <td>Species of Concern</td>\n",
       "    </tr>\n",
       "    <tr>\n",
       "      <th>8</th>\n",
       "      <td>Mammal</td>\n",
       "      <td>Canis lupus</td>\n",
       "      <td>Gray Wolf</td>\n",
       "      <td>Endangered</td>\n",
       "    </tr>\n",
       "    <tr>\n",
       "      <th>9</th>\n",
       "      <td>Mammal</td>\n",
       "      <td>Canis rufus</td>\n",
       "      <td>Red Wolf</td>\n",
       "      <td>Endangered</td>\n",
       "    </tr>\n",
       "  </tbody>\n",
       "</table>\n",
       "</div>"
      ],
      "text/plain": [
       "  category                scientific_name  \\\n",
       "0   Mammal  Clethrionomys gapperi gapperi   \n",
       "1   Mammal                      Bos bison   \n",
       "2   Mammal                     Bos taurus   \n",
       "3   Mammal                     Ovis aries   \n",
       "4   Mammal                 Cervus elaphus   \n",
       "5   Mammal         Odocoileus virginianus   \n",
       "6   Mammal                     Sus scrofa   \n",
       "7   Mammal                  Canis latrans   \n",
       "8   Mammal                    Canis lupus   \n",
       "9   Mammal                    Canis rufus   \n",
       "\n",
       "                                        common_names conservation_status  \n",
       "0                           Gapper's Red-Backed Vole                 NaN  \n",
       "1                              American Bison, Bison                 NaN  \n",
       "2  Aurochs, Aurochs, Domestic Cattle (Feral), Dom...                 NaN  \n",
       "3  Domestic Sheep, Mouflon, Red Sheep, Sheep (Feral)                 NaN  \n",
       "4                                      Wapiti Or Elk                 NaN  \n",
       "5                                  White-Tailed Deer                 NaN  \n",
       "6                                Feral Hog, Wild Pig                 NaN  \n",
       "7                                             Coyote  Species of Concern  \n",
       "8                                          Gray Wolf          Endangered  \n",
       "9                                           Red Wolf          Endangered  "
      ]
     },
     "execution_count": 121,
     "metadata": {},
     "output_type": "execute_result"
    }
   ],
   "source": [
    "species.head(10)"
   ]
  },
  {
   "cell_type": "code",
   "execution_count": 122,
   "metadata": {},
   "outputs": [
    {
     "data": {
      "text/html": [
       "<div>\n",
       "<style scoped>\n",
       "    .dataframe tbody tr th:only-of-type {\n",
       "        vertical-align: middle;\n",
       "    }\n",
       "\n",
       "    .dataframe tbody tr th {\n",
       "        vertical-align: top;\n",
       "    }\n",
       "\n",
       "    .dataframe thead th {\n",
       "        text-align: right;\n",
       "    }\n",
       "</style>\n",
       "<table border=\"1\" class=\"dataframe\">\n",
       "  <thead>\n",
       "    <tr style=\"text-align: right;\">\n",
       "      <th></th>\n",
       "      <th>scientific_name</th>\n",
       "      <th>park_name</th>\n",
       "      <th>observations</th>\n",
       "    </tr>\n",
       "  </thead>\n",
       "  <tbody>\n",
       "    <tr>\n",
       "      <th>0</th>\n",
       "      <td>Vicia benghalensis</td>\n",
       "      <td>Great Smoky Mountains National Park</td>\n",
       "      <td>68</td>\n",
       "    </tr>\n",
       "    <tr>\n",
       "      <th>1</th>\n",
       "      <td>Neovison vison</td>\n",
       "      <td>Great Smoky Mountains National Park</td>\n",
       "      <td>77</td>\n",
       "    </tr>\n",
       "    <tr>\n",
       "      <th>2</th>\n",
       "      <td>Prunus subcordata</td>\n",
       "      <td>Yosemite National Park</td>\n",
       "      <td>138</td>\n",
       "    </tr>\n",
       "    <tr>\n",
       "      <th>3</th>\n",
       "      <td>Abutilon theophrasti</td>\n",
       "      <td>Bryce National Park</td>\n",
       "      <td>84</td>\n",
       "    </tr>\n",
       "    <tr>\n",
       "      <th>4</th>\n",
       "      <td>Githopsis specularioides</td>\n",
       "      <td>Great Smoky Mountains National Park</td>\n",
       "      <td>85</td>\n",
       "    </tr>\n",
       "    <tr>\n",
       "      <th>5</th>\n",
       "      <td>Elymus virginicus var. virginicus</td>\n",
       "      <td>Yosemite National Park</td>\n",
       "      <td>112</td>\n",
       "    </tr>\n",
       "    <tr>\n",
       "      <th>6</th>\n",
       "      <td>Spizella pusilla</td>\n",
       "      <td>Yellowstone National Park</td>\n",
       "      <td>228</td>\n",
       "    </tr>\n",
       "    <tr>\n",
       "      <th>7</th>\n",
       "      <td>Elymus multisetus</td>\n",
       "      <td>Great Smoky Mountains National Park</td>\n",
       "      <td>39</td>\n",
       "    </tr>\n",
       "    <tr>\n",
       "      <th>8</th>\n",
       "      <td>Lysimachia quadrifolia</td>\n",
       "      <td>Yosemite National Park</td>\n",
       "      <td>168</td>\n",
       "    </tr>\n",
       "    <tr>\n",
       "      <th>9</th>\n",
       "      <td>Diphyscium cumberlandianum</td>\n",
       "      <td>Yellowstone National Park</td>\n",
       "      <td>250</td>\n",
       "    </tr>\n",
       "  </tbody>\n",
       "</table>\n",
       "</div>"
      ],
      "text/plain": [
       "                     scientific_name                            park_name  \\\n",
       "0                 Vicia benghalensis  Great Smoky Mountains National Park   \n",
       "1                     Neovison vison  Great Smoky Mountains National Park   \n",
       "2                  Prunus subcordata               Yosemite National Park   \n",
       "3               Abutilon theophrasti                  Bryce National Park   \n",
       "4           Githopsis specularioides  Great Smoky Mountains National Park   \n",
       "5  Elymus virginicus var. virginicus               Yosemite National Park   \n",
       "6                   Spizella pusilla            Yellowstone National Park   \n",
       "7                  Elymus multisetus  Great Smoky Mountains National Park   \n",
       "8             Lysimachia quadrifolia               Yosemite National Park   \n",
       "9         Diphyscium cumberlandianum            Yellowstone National Park   \n",
       "\n",
       "   observations  \n",
       "0            68  \n",
       "1            77  \n",
       "2           138  \n",
       "3            84  \n",
       "4            85  \n",
       "5           112  \n",
       "6           228  \n",
       "7            39  \n",
       "8           168  \n",
       "9           250  "
      ]
     },
     "execution_count": 122,
     "metadata": {},
     "output_type": "execute_result"
    }
   ],
   "source": [
    "observations.head(10)"
   ]
  },
  {
   "cell_type": "markdown",
   "metadata": {},
   "source": [
    "The data set \"species\" has the following columns:\n",
    "- **category** - The category of taxonomy for each species\n",
    "- **scientific_name** - The scientific name of each species\n",
    "- **common_names** - The common names of each species\n",
    "- **conservation_status** - The species conservation status\n",
    "\n",
    "The data set observations has the following columns:\n",
    "\n",
    "- **scientific_name** - The scientific name of each species\n",
    "- **park_name** - The name of the national park\n",
    "- **observations** - The number of observations in the past 7 days"
   ]
  },
  {
   "cell_type": "markdown",
   "metadata": {},
   "source": [
    "# Data description"
   ]
  },
  {
   "cell_type": "markdown",
   "metadata": {},
   "source": [
    "### Species data\n",
    "First, let's start with some basic exploration of the species data set."
   ]
  },
  {
   "cell_type": "code",
   "execution_count": 123,
   "metadata": {},
   "outputs": [
    {
     "data": {
      "text/html": [
       "<div>\n",
       "<style scoped>\n",
       "    .dataframe tbody tr th:only-of-type {\n",
       "        vertical-align: middle;\n",
       "    }\n",
       "\n",
       "    .dataframe tbody tr th {\n",
       "        vertical-align: top;\n",
       "    }\n",
       "\n",
       "    .dataframe thead th {\n",
       "        text-align: right;\n",
       "    }\n",
       "</style>\n",
       "<table border=\"1\" class=\"dataframe\">\n",
       "  <thead>\n",
       "    <tr style=\"text-align: right;\">\n",
       "      <th></th>\n",
       "      <th>category</th>\n",
       "      <th>scientific_name</th>\n",
       "      <th>common_names</th>\n",
       "      <th>conservation_status</th>\n",
       "    </tr>\n",
       "  </thead>\n",
       "  <tbody>\n",
       "    <tr>\n",
       "      <th>count</th>\n",
       "      <td>5824</td>\n",
       "      <td>5824</td>\n",
       "      <td>5824</td>\n",
       "      <td>191</td>\n",
       "    </tr>\n",
       "    <tr>\n",
       "      <th>unique</th>\n",
       "      <td>7</td>\n",
       "      <td>5541</td>\n",
       "      <td>5504</td>\n",
       "      <td>4</td>\n",
       "    </tr>\n",
       "    <tr>\n",
       "      <th>top</th>\n",
       "      <td>Vascular Plant</td>\n",
       "      <td>Canis lupus</td>\n",
       "      <td>Brachythecium Moss</td>\n",
       "      <td>Species of Concern</td>\n",
       "    </tr>\n",
       "    <tr>\n",
       "      <th>freq</th>\n",
       "      <td>4470</td>\n",
       "      <td>3</td>\n",
       "      <td>7</td>\n",
       "      <td>161</td>\n",
       "    </tr>\n",
       "  </tbody>\n",
       "</table>\n",
       "</div>"
      ],
      "text/plain": [
       "              category scientific_name        common_names conservation_status\n",
       "count             5824            5824                5824                 191\n",
       "unique               7            5541                5504                   4\n",
       "top     Vascular Plant     Canis lupus  Brachythecium Moss  Species of Concern\n",
       "freq              4470               3                   7                 161"
      ]
     },
     "execution_count": 123,
     "metadata": {},
     "output_type": "execute_result"
    }
   ],
   "source": [
    "species.describe()"
   ]
  },
  {
   "cell_type": "markdown",
   "metadata": {},
   "source": [
    "**Unique categories**"
   ]
  },
  {
   "cell_type": "code",
   "execution_count": 124,
   "metadata": {},
   "outputs": [
    {
     "data": {
      "text/plain": [
       "['Mammal',\n",
       " 'Bird',\n",
       " 'Reptile',\n",
       " 'Amphibian',\n",
       " 'Fish',\n",
       " 'Vascular Plant',\n",
       " 'Nonvascular Plant']"
      ]
     },
     "execution_count": 124,
     "metadata": {},
     "output_type": "execute_result"
    }
   ],
   "source": [
    "list(species.category.unique())"
   ]
  },
  {
   "cell_type": "markdown",
   "metadata": {},
   "source": [
    "**Count of each category**"
   ]
  },
  {
   "cell_type": "code",
   "execution_count": 125,
   "metadata": {},
   "outputs": [
    {
     "data": {
      "text/plain": [
       "category\n",
       "Amphibian              80\n",
       "Bird                  521\n",
       "Fish                  127\n",
       "Mammal                214\n",
       "Nonvascular Plant     333\n",
       "Reptile                79\n",
       "Vascular Plant       4470\n",
       "dtype: int64"
      ]
     },
     "execution_count": 125,
     "metadata": {},
     "output_type": "execute_result"
    }
   ],
   "source": [
    "species.groupby(\"category\").size()"
   ]
  },
  {
   "cell_type": "markdown",
   "metadata": {},
   "source": [
    "**Unique conservation status**"
   ]
  },
  {
   "cell_type": "code",
   "execution_count": 126,
   "metadata": {
    "scrolled": false
   },
   "outputs": [
    {
     "data": {
      "text/plain": [
       "[nan, 'Species of Concern', 'Endangered', 'Threatened', 'In Recovery']"
      ]
     },
     "execution_count": 126,
     "metadata": {},
     "output_type": "execute_result"
    }
   ],
   "source": [
    "list(species.conservation_status.unique())\n"
   ]
  },
  {
   "cell_type": "markdown",
   "metadata": {},
   "source": [
    "**Count of each conservation status**"
   ]
  },
  {
   "cell_type": "code",
   "execution_count": 127,
   "metadata": {},
   "outputs": [
    {
     "data": {
      "text/plain": [
       "conservation_status\n",
       "Endangered             16\n",
       "In Recovery             4\n",
       "Species of Concern    161\n",
       "Threatened             10\n",
       "dtype: int64"
      ]
     },
     "execution_count": 127,
     "metadata": {},
     "output_type": "execute_result"
    }
   ],
   "source": [
    "species.groupby(\"conservation_status\").size()"
   ]
  },
  {
   "cell_type": "code",
   "execution_count": 128,
   "metadata": {},
   "outputs": [
    {
     "data": {
      "text/plain": [
       "191"
      ]
     },
     "execution_count": 128,
     "metadata": {},
     "output_type": "execute_result"
    }
   ],
   "source": [
    "conservation_concern_obs = species.groupby(\"conservation_status\").size().sum()\n",
    "conservation_concern_obs"
   ]
  },
  {
   "cell_type": "markdown",
   "metadata": {},
   "source": [
    "**Count of non-concern species**"
   ]
  },
  {
   "cell_type": "code",
   "execution_count": 129,
   "metadata": {},
   "outputs": [
    {
     "data": {
      "text/plain": [
       "5633"
      ]
     },
     "execution_count": 129,
     "metadata": {},
     "output_type": "execute_result"
    }
   ],
   "source": [
    "no_concern_obs = species.conservation_status.isna().sum()\n",
    "no_concern_obs"
   ]
  },
  {
   "cell_type": "markdown",
   "metadata": {},
   "source": [
    "In this table we can see:\n",
    "- There're 5824 observations\n",
    "- There's a total of 7 taxonomy categories: Mammal, Bird, Reptible, Amphibian, Fish, Vascular Plant and Nonvascular Plant\n",
    "- There's a total of 4 conservation status: Species of Concern, Endangered, Threatened and In Recovery. There's also \"nan\" value that refers to those observations without any conservation status (Structurally missing data). This means that there's a total of 191 observations with some level of conservation concern and 5633 that do not belong to a conservation concern category. "
   ]
  },
  {
   "cell_type": "markdown",
   "metadata": {},
   "source": [
    "Let's look for any other missing data onother variables:"
   ]
  },
  {
   "cell_type": "code",
   "execution_count": 130,
   "metadata": {},
   "outputs": [
    {
     "data": {
      "text/plain": [
       "0"
      ]
     },
     "execution_count": 130,
     "metadata": {},
     "output_type": "execute_result"
    }
   ],
   "source": [
    "species.common_names.isna().sum()"
   ]
  },
  {
   "cell_type": "code",
   "execution_count": 131,
   "metadata": {},
   "outputs": [
    {
     "data": {
      "text/plain": [
       "0"
      ]
     },
     "execution_count": 131,
     "metadata": {},
     "output_type": "execute_result"
    }
   ],
   "source": [
    "species.scientific_name.isna().sum()"
   ]
  },
  {
   "cell_type": "code",
   "execution_count": 132,
   "metadata": {},
   "outputs": [
    {
     "data": {
      "text/plain": [
       "0"
      ]
     },
     "execution_count": 132,
     "metadata": {},
     "output_type": "execute_result"
    }
   ],
   "source": [
    "species.category.isna().sum()"
   ]
  },
  {
   "cell_type": "markdown",
   "metadata": {},
   "source": [
    "No data seems to be missing. \n",
    "On the other hand, for now, column and value names seem consistent and convinient to use for analysis so I will not apply any changes."
   ]
  },
  {
   "cell_type": "markdown",
   "metadata": {},
   "source": [
    "### Observations data\n",
    "\n",
    "Let's now check explore the observations data set"
   ]
  },
  {
   "cell_type": "code",
   "execution_count": 133,
   "metadata": {},
   "outputs": [
    {
     "data": {
      "text/plain": [
       "23296"
      ]
     },
     "execution_count": 133,
     "metadata": {},
     "output_type": "execute_result"
    }
   ],
   "source": [
    "len(observations)"
   ]
  },
  {
   "cell_type": "code",
   "execution_count": 134,
   "metadata": {},
   "outputs": [
    {
     "data": {
      "text/html": [
       "<div>\n",
       "<style scoped>\n",
       "    .dataframe tbody tr th:only-of-type {\n",
       "        vertical-align: middle;\n",
       "    }\n",
       "\n",
       "    .dataframe tbody tr th {\n",
       "        vertical-align: top;\n",
       "    }\n",
       "\n",
       "    .dataframe thead th {\n",
       "        text-align: right;\n",
       "    }\n",
       "</style>\n",
       "<table border=\"1\" class=\"dataframe\">\n",
       "  <thead>\n",
       "    <tr style=\"text-align: right;\">\n",
       "      <th></th>\n",
       "      <th>scientific_name</th>\n",
       "      <th>observations</th>\n",
       "    </tr>\n",
       "    <tr>\n",
       "      <th>park_name</th>\n",
       "      <th></th>\n",
       "      <th></th>\n",
       "    </tr>\n",
       "  </thead>\n",
       "  <tbody>\n",
       "    <tr>\n",
       "      <th>Bryce National Park</th>\n",
       "      <td>5824</td>\n",
       "      <td>5824</td>\n",
       "    </tr>\n",
       "    <tr>\n",
       "      <th>Great Smoky Mountains National Park</th>\n",
       "      <td>5824</td>\n",
       "      <td>5824</td>\n",
       "    </tr>\n",
       "    <tr>\n",
       "      <th>Yellowstone National Park</th>\n",
       "      <td>5824</td>\n",
       "      <td>5824</td>\n",
       "    </tr>\n",
       "    <tr>\n",
       "      <th>Yosemite National Park</th>\n",
       "      <td>5824</td>\n",
       "      <td>5824</td>\n",
       "    </tr>\n",
       "  </tbody>\n",
       "</table>\n",
       "</div>"
      ],
      "text/plain": [
       "                                     scientific_name  observations\n",
       "park_name                                                         \n",
       "Bryce National Park                             5824          5824\n",
       "Great Smoky Mountains National Park             5824          5824\n",
       "Yellowstone National Park                       5824          5824\n",
       "Yosemite National Park                          5824          5824"
      ]
     },
     "execution_count": 134,
     "metadata": {},
     "output_type": "execute_result"
    }
   ],
   "source": [
    "observations.groupby(\"park_name\").count()"
   ]
  },
  {
   "cell_type": "code",
   "execution_count": 135,
   "metadata": {},
   "outputs": [
    {
     "data": {
      "text/plain": [
       "5824.0"
      ]
     },
     "execution_count": 135,
     "metadata": {},
     "output_type": "execute_result"
    }
   ],
   "source": [
    "unique_species_seen = len(observations) / len(observations.park_name.unique())\n",
    "unique_species_seen"
   ]
  },
  {
   "cell_type": "markdown",
   "metadata": {},
   "source": [
    "There's a total of 3314739 actual observations. These correspond to 5824 different species seen in the last 7 days in 4 different parks: Bryce National Park, Great Smoky Mountains National Park, Yellowstone National Park and Yosemite National Park\t. "
   ]
  },
  {
   "cell_type": "markdown",
   "metadata": {},
   "source": [
    "Let's double-check there are no null values:"
   ]
  },
  {
   "cell_type": "code",
   "execution_count": 136,
   "metadata": {},
   "outputs": [
    {
     "data": {
      "text/plain": [
       "0"
      ]
     },
     "execution_count": 136,
     "metadata": {},
     "output_type": "execute_result"
    }
   ],
   "source": [
    "observations.scientific_name.isna().sum()"
   ]
  },
  {
   "cell_type": "code",
   "execution_count": 137,
   "metadata": {},
   "outputs": [
    {
     "data": {
      "text/plain": [
       "0"
      ]
     },
     "execution_count": 137,
     "metadata": {},
     "output_type": "execute_result"
    }
   ],
   "source": [
    "observations.park_name.isna().sum()"
   ]
  },
  {
   "cell_type": "code",
   "execution_count": 138,
   "metadata": {},
   "outputs": [
    {
     "data": {
      "text/plain": [
       "0"
      ]
     },
     "execution_count": 138,
     "metadata": {},
     "output_type": "execute_result"
    }
   ],
   "source": [
    "observations.observations.isna().sum()"
   ]
  },
  {
   "cell_type": "markdown",
   "metadata": {},
   "source": [
    "No data seems to be missing. \n",
    "Column and value names seem consistent and convinient to use for analysis so I will not apply any changes."
   ]
  },
  {
   "cell_type": "markdown",
   "metadata": {},
   "source": [
    "# Analysis\n",
    "\n",
    "## Conservation status"
   ]
  },
  {
   "cell_type": "markdown",
   "metadata": {},
   "source": [
    "Let's start answering a basic question about **species** data: \n",
    "- **What is the percentage of species in some type of conservation danger?**\n",
    "- **What is the distribution of the different levels of conservation concern?**\n",
    "\n",
    "First, let's create 2 groups on this dataframe: Protected and Not protected. For this, we will include one more column to the dataset and add the correct value (Protected, Not protected) based on the conservation_status column:"
   ]
  },
  {
   "cell_type": "code",
   "execution_count": 139,
   "metadata": {},
   "outputs": [],
   "source": [
    "species[\"is_protected\"] = np.where(species[\"conservation_status\"].isna(), \"Not protected\", \"Protected\")"
   ]
  },
  {
   "cell_type": "code",
   "execution_count": 140,
   "metadata": {},
   "outputs": [
    {
     "data": {
      "text/html": [
       "<div>\n",
       "<style scoped>\n",
       "    .dataframe tbody tr th:only-of-type {\n",
       "        vertical-align: middle;\n",
       "    }\n",
       "\n",
       "    .dataframe tbody tr th {\n",
       "        vertical-align: top;\n",
       "    }\n",
       "\n",
       "    .dataframe thead th {\n",
       "        text-align: right;\n",
       "    }\n",
       "</style>\n",
       "<table border=\"1\" class=\"dataframe\">\n",
       "  <thead>\n",
       "    <tr style=\"text-align: right;\">\n",
       "      <th></th>\n",
       "      <th>category</th>\n",
       "      <th>scientific_name</th>\n",
       "      <th>common_names</th>\n",
       "      <th>conservation_status</th>\n",
       "      <th>is_protected</th>\n",
       "    </tr>\n",
       "  </thead>\n",
       "  <tbody>\n",
       "    <tr>\n",
       "      <th>0</th>\n",
       "      <td>Mammal</td>\n",
       "      <td>Clethrionomys gapperi gapperi</td>\n",
       "      <td>Gapper's Red-Backed Vole</td>\n",
       "      <td>NaN</td>\n",
       "      <td>Not protected</td>\n",
       "    </tr>\n",
       "    <tr>\n",
       "      <th>1</th>\n",
       "      <td>Mammal</td>\n",
       "      <td>Bos bison</td>\n",
       "      <td>American Bison, Bison</td>\n",
       "      <td>NaN</td>\n",
       "      <td>Not protected</td>\n",
       "    </tr>\n",
       "    <tr>\n",
       "      <th>2</th>\n",
       "      <td>Mammal</td>\n",
       "      <td>Bos taurus</td>\n",
       "      <td>Aurochs, Aurochs, Domestic Cattle (Feral), Dom...</td>\n",
       "      <td>NaN</td>\n",
       "      <td>Not protected</td>\n",
       "    </tr>\n",
       "    <tr>\n",
       "      <th>3</th>\n",
       "      <td>Mammal</td>\n",
       "      <td>Ovis aries</td>\n",
       "      <td>Domestic Sheep, Mouflon, Red Sheep, Sheep (Feral)</td>\n",
       "      <td>NaN</td>\n",
       "      <td>Not protected</td>\n",
       "    </tr>\n",
       "    <tr>\n",
       "      <th>4</th>\n",
       "      <td>Mammal</td>\n",
       "      <td>Cervus elaphus</td>\n",
       "      <td>Wapiti Or Elk</td>\n",
       "      <td>NaN</td>\n",
       "      <td>Not protected</td>\n",
       "    </tr>\n",
       "    <tr>\n",
       "      <th>5</th>\n",
       "      <td>Mammal</td>\n",
       "      <td>Odocoileus virginianus</td>\n",
       "      <td>White-Tailed Deer</td>\n",
       "      <td>NaN</td>\n",
       "      <td>Not protected</td>\n",
       "    </tr>\n",
       "    <tr>\n",
       "      <th>6</th>\n",
       "      <td>Mammal</td>\n",
       "      <td>Sus scrofa</td>\n",
       "      <td>Feral Hog, Wild Pig</td>\n",
       "      <td>NaN</td>\n",
       "      <td>Not protected</td>\n",
       "    </tr>\n",
       "    <tr>\n",
       "      <th>7</th>\n",
       "      <td>Mammal</td>\n",
       "      <td>Canis latrans</td>\n",
       "      <td>Coyote</td>\n",
       "      <td>Species of Concern</td>\n",
       "      <td>Protected</td>\n",
       "    </tr>\n",
       "    <tr>\n",
       "      <th>8</th>\n",
       "      <td>Mammal</td>\n",
       "      <td>Canis lupus</td>\n",
       "      <td>Gray Wolf</td>\n",
       "      <td>Endangered</td>\n",
       "      <td>Protected</td>\n",
       "    </tr>\n",
       "    <tr>\n",
       "      <th>9</th>\n",
       "      <td>Mammal</td>\n",
       "      <td>Canis rufus</td>\n",
       "      <td>Red Wolf</td>\n",
       "      <td>Endangered</td>\n",
       "      <td>Protected</td>\n",
       "    </tr>\n",
       "  </tbody>\n",
       "</table>\n",
       "</div>"
      ],
      "text/plain": [
       "  category                scientific_name  \\\n",
       "0   Mammal  Clethrionomys gapperi gapperi   \n",
       "1   Mammal                      Bos bison   \n",
       "2   Mammal                     Bos taurus   \n",
       "3   Mammal                     Ovis aries   \n",
       "4   Mammal                 Cervus elaphus   \n",
       "5   Mammal         Odocoileus virginianus   \n",
       "6   Mammal                     Sus scrofa   \n",
       "7   Mammal                  Canis latrans   \n",
       "8   Mammal                    Canis lupus   \n",
       "9   Mammal                    Canis rufus   \n",
       "\n",
       "                                        common_names conservation_status  \\\n",
       "0                           Gapper's Red-Backed Vole                 NaN   \n",
       "1                              American Bison, Bison                 NaN   \n",
       "2  Aurochs, Aurochs, Domestic Cattle (Feral), Dom...                 NaN   \n",
       "3  Domestic Sheep, Mouflon, Red Sheep, Sheep (Feral)                 NaN   \n",
       "4                                      Wapiti Or Elk                 NaN   \n",
       "5                                  White-Tailed Deer                 NaN   \n",
       "6                                Feral Hog, Wild Pig                 NaN   \n",
       "7                                             Coyote  Species of Concern   \n",
       "8                                          Gray Wolf          Endangered   \n",
       "9                                           Red Wolf          Endangered   \n",
       "\n",
       "    is_protected  \n",
       "0  Not protected  \n",
       "1  Not protected  \n",
       "2  Not protected  \n",
       "3  Not protected  \n",
       "4  Not protected  \n",
       "5  Not protected  \n",
       "6  Not protected  \n",
       "7      Protected  \n",
       "8      Protected  \n",
       "9      Protected  "
      ]
     },
     "execution_count": 140,
     "metadata": {},
     "output_type": "execute_result"
    }
   ],
   "source": [
    "species.head(10)"
   ]
  },
  {
   "cell_type": "markdown",
   "metadata": {},
   "source": [
    "Now, let's plot the results:"
   ]
  },
  {
   "cell_type": "code",
   "execution_count": 141,
   "metadata": {},
   "outputs": [
    {
     "data": {
      "text/plain": [
       "is_protected\n",
       "Not protected    5633\n",
       "Protected         191\n",
       "Name: category, dtype: int64"
      ]
     },
     "execution_count": 141,
     "metadata": {},
     "output_type": "execute_result"
    }
   ],
   "source": [
    "is_protected_distribution = species.groupby(\"is_protected\").category.count()\n",
    "is_protected_distribution"
   ]
  },
  {
   "cell_type": "code",
   "execution_count": 142,
   "metadata": {},
   "outputs": [
    {
     "data": {
      "image/png": "[encoded data removed]",
      "text/plain": [
       "<Figure size 800x600 with 1 Axes>"
      ]
     },
     "metadata": {},
     "output_type": "display_data"
    },
    {
     "data": {
      "text/plain": [
       "<Figure size 432x288 with 0 Axes>"
      ]
     },
     "metadata": {},
     "output_type": "display_data"
    }
   ],
   "source": [
    "is_protected_distribution_labels = [\"Not protected\", \"Protected\"]\n",
    "is_protected_distribution_colors = [\"#C4DFAA\", \"#FFB2A6\"]\n",
    "\n",
    "plt.figure(figsize=(8, 6), dpi=100)\n",
    "plt.pie(is_protected_distribution, labels = is_protected_distribution_labels, autopct='%1.1f%%', colors = is_protected_distribution_colors)\n",
    "plt.title(\"Protected Species represent 3.3% of total species\")\n",
    "plt.show()\n",
    "plt.clf()\n"
   ]
  },
  {
   "cell_type": "markdown",
   "metadata": {},
   "source": [
    "**From those protected, what is the general distribution?**"
   ]
  },
  {
   "cell_type": "code",
   "execution_count": 143,
   "metadata": {},
   "outputs": [
    {
     "data": {
      "text/plain": [
       "conservation_status\n",
       "Endangered             16\n",
       "In Recovery             4\n",
       "Species of Concern    161\n",
       "Threatened             10\n",
       "Name: category, dtype: int64"
      ]
     },
     "execution_count": 143,
     "metadata": {},
     "output_type": "execute_result"
    }
   ],
   "source": [
    "conservation_level_distribution = species.groupby(\"conservation_status\").category.count()\n",
    "conservation_level_distribution"
   ]
  },
  {
   "cell_type": "code",
   "execution_count": 144,
   "metadata": {},
   "outputs": [
    {
     "data": {
      "image/png": "[encoded data removed]",
      "text/plain": [
       "<Figure size 800x600 with 1 Axes>"
      ]
     },
     "metadata": {},
     "output_type": "display_data"
    },
    {
     "data": {
      "text/plain": [
       "<Figure size 432x288 with 0 Axes>"
      ]
     },
     "metadata": {},
     "output_type": "display_data"
    }
   ],
   "source": [
    "status_distribution_labels = [\"Endangered\", \"In Recovery\", \"Species of Concern\", \"Threatened\"]\n",
    "status_colors = [\"#F37878\", \"#DEBC74\",\"#F9F9C5\",\"#FAD9A1\"]\n",
    "\n",
    "plt.figure(figsize=(8, 6), dpi=100)\n",
    "plt.pie(conservation_level_distribution, labels = status_distribution_labels, autopct='%1.1f%%', colors = status_colors)\n",
    "plt.title(\"Distribution of conservation status\")\n",
    "plt.show()\n",
    "plt.clf()"
   ]
  },
  {
   "cell_type": "markdown",
   "metadata": {},
   "source": [
    "## Conservation status by category\n",
    "\n",
    "Now, let's check the **distribution of conservation status by category**"
   ]
  },
  {
   "cell_type": "code",
   "execution_count": 145,
   "metadata": {},
   "outputs": [
    {
     "data": {
      "text/html": [
       "<div>\n",
       "<style scoped>\n",
       "    .dataframe tbody tr th:only-of-type {\n",
       "        vertical-align: middle;\n",
       "    }\n",
       "\n",
       "    .dataframe tbody tr th {\n",
       "        vertical-align: top;\n",
       "    }\n",
       "\n",
       "    .dataframe thead th {\n",
       "        text-align: right;\n",
       "    }\n",
       "</style>\n",
       "<table border=\"1\" class=\"dataframe\">\n",
       "  <thead>\n",
       "    <tr style=\"text-align: right;\">\n",
       "      <th>category</th>\n",
       "      <th>Amphibian</th>\n",
       "      <th>Bird</th>\n",
       "      <th>Fish</th>\n",
       "      <th>Mammal</th>\n",
       "      <th>Nonvascular Plant</th>\n",
       "      <th>Reptile</th>\n",
       "      <th>Vascular Plant</th>\n",
       "    </tr>\n",
       "    <tr>\n",
       "      <th>conservation_status</th>\n",
       "      <th></th>\n",
       "      <th></th>\n",
       "      <th></th>\n",
       "      <th></th>\n",
       "      <th></th>\n",
       "      <th></th>\n",
       "      <th></th>\n",
       "    </tr>\n",
       "  </thead>\n",
       "  <tbody>\n",
       "    <tr>\n",
       "      <th>Endangered</th>\n",
       "      <td>1.0</td>\n",
       "      <td>4.0</td>\n",
       "      <td>3.0</td>\n",
       "      <td>7.0</td>\n",
       "      <td>NaN</td>\n",
       "      <td>NaN</td>\n",
       "      <td>1.0</td>\n",
       "    </tr>\n",
       "    <tr>\n",
       "      <th>In Recovery</th>\n",
       "      <td>NaN</td>\n",
       "      <td>3.0</td>\n",
       "      <td>NaN</td>\n",
       "      <td>1.0</td>\n",
       "      <td>NaN</td>\n",
       "      <td>NaN</td>\n",
       "      <td>NaN</td>\n",
       "    </tr>\n",
       "    <tr>\n",
       "      <th>Species of Concern</th>\n",
       "      <td>4.0</td>\n",
       "      <td>72.0</td>\n",
       "      <td>4.0</td>\n",
       "      <td>28.0</td>\n",
       "      <td>5.0</td>\n",
       "      <td>5.0</td>\n",
       "      <td>43.0</td>\n",
       "    </tr>\n",
       "    <tr>\n",
       "      <th>Threatened</th>\n",
       "      <td>2.0</td>\n",
       "      <td>NaN</td>\n",
       "      <td>4.0</td>\n",
       "      <td>2.0</td>\n",
       "      <td>NaN</td>\n",
       "      <td>NaN</td>\n",
       "      <td>2.0</td>\n",
       "    </tr>\n",
       "  </tbody>\n",
       "</table>\n",
       "</div>"
      ],
      "text/plain": [
       "category             Amphibian  Bird  Fish  Mammal  Nonvascular Plant  \\\n",
       "conservation_status                                                     \n",
       "Endangered                 1.0   4.0   3.0     7.0                NaN   \n",
       "In Recovery                NaN   3.0   NaN     1.0                NaN   \n",
       "Species of Concern         4.0  72.0   4.0    28.0                5.0   \n",
       "Threatened                 2.0   NaN   4.0     2.0                NaN   \n",
       "\n",
       "category             Reptile  Vascular Plant  \n",
       "conservation_status                           \n",
       "Endangered               NaN             1.0  \n",
       "In Recovery              NaN             NaN  \n",
       "Species of Concern       5.0            43.0  \n",
       "Threatened               NaN             2.0  "
      ]
     },
     "execution_count": 145,
     "metadata": {},
     "output_type": "execute_result"
    }
   ],
   "source": [
    "conservation_status_by_category = species[species.conservation_status != \"Not protected\"].groupby([\"conservation_status\", \"category\"])['scientific_name'].count().unstack()\n",
    "conservation_status_by_category"
   ]
  },
  {
   "cell_type": "code",
   "execution_count": 146,
   "metadata": {},
   "outputs": [
    {
     "data": {
      "image/png": "[encoded data removed]",
      "text/plain": [
       "<Figure size 1008x576 with 1 Axes>"
      ]
     },
     "metadata": {
      "needs_background": "light"
     },
     "output_type": "display_data"
    },
    {
     "data": {
      "text/plain": [
       "<Figure size 432x288 with 0 Axes>"
      ]
     },
     "metadata": {},
     "output_type": "display_data"
    }
   ],
   "source": [
    "ax = conservation_status_by_category.plot(kind = 'bar', figsize=(14,8), stacked=True)\n",
    "plt.xticks(rotation = 0)\n",
    "ax.set_xlabel(\"Conservation Status\")\n",
    "ax.set_ylabel(\"Number of Species\")\n",
    "plt.show()\n",
    "plt.clf()\n"
   ]
  },
  {
   "cell_type": "markdown",
   "metadata": {},
   "source": [
    "- Most of the species (84,3%) are not protected\n",
    "- From the ones protected, most of them are in the category \"Species of Concern\". \n",
    "- About the distribution, Mammals is the most common category in the Endangered group, while Bird is the most common cateroy in the group \"Species of Concern\". "
   ]
  },
  {
   "cell_type": "markdown",
   "metadata": {},
   "source": [
    "Now let's check, by category, **the percentage of species in the \"Protected\" category**"
   ]
  },
  {
   "cell_type": "code",
   "execution_count": 147,
   "metadata": {},
   "outputs": [
    {
     "data": {
      "text/html": [
       "<div>\n",
       "<style scoped>\n",
       "    .dataframe tbody tr th:only-of-type {\n",
       "        vertical-align: middle;\n",
       "    }\n",
       "\n",
       "    .dataframe tbody tr th {\n",
       "        vertical-align: top;\n",
       "    }\n",
       "\n",
       "    .dataframe thead th {\n",
       "        text-align: right;\n",
       "    }\n",
       "</style>\n",
       "<table border=\"1\" class=\"dataframe\">\n",
       "  <thead>\n",
       "    <tr style=\"text-align: right;\">\n",
       "      <th>is_protected</th>\n",
       "      <th>Not protected</th>\n",
       "      <th>Protected</th>\n",
       "      <th>Totals</th>\n",
       "      <th>Percentage of Protected</th>\n",
       "    </tr>\n",
       "    <tr>\n",
       "      <th>category</th>\n",
       "      <th></th>\n",
       "      <th></th>\n",
       "      <th></th>\n",
       "      <th></th>\n",
       "    </tr>\n",
       "  </thead>\n",
       "  <tbody>\n",
       "    <tr>\n",
       "      <th>Amphibian</th>\n",
       "      <td>73</td>\n",
       "      <td>7</td>\n",
       "      <td>80</td>\n",
       "      <td>8.75</td>\n",
       "    </tr>\n",
       "    <tr>\n",
       "      <th>Bird</th>\n",
       "      <td>442</td>\n",
       "      <td>79</td>\n",
       "      <td>521</td>\n",
       "      <td>15.16</td>\n",
       "    </tr>\n",
       "    <tr>\n",
       "      <th>Fish</th>\n",
       "      <td>116</td>\n",
       "      <td>11</td>\n",
       "      <td>127</td>\n",
       "      <td>8.66</td>\n",
       "    </tr>\n",
       "    <tr>\n",
       "      <th>Mammal</th>\n",
       "      <td>176</td>\n",
       "      <td>38</td>\n",
       "      <td>214</td>\n",
       "      <td>17.76</td>\n",
       "    </tr>\n",
       "    <tr>\n",
       "      <th>Nonvascular Plant</th>\n",
       "      <td>328</td>\n",
       "      <td>5</td>\n",
       "      <td>333</td>\n",
       "      <td>1.50</td>\n",
       "    </tr>\n",
       "    <tr>\n",
       "      <th>Reptile</th>\n",
       "      <td>74</td>\n",
       "      <td>5</td>\n",
       "      <td>79</td>\n",
       "      <td>6.33</td>\n",
       "    </tr>\n",
       "    <tr>\n",
       "      <th>Vascular Plant</th>\n",
       "      <td>4424</td>\n",
       "      <td>46</td>\n",
       "      <td>4470</td>\n",
       "      <td>1.03</td>\n",
       "    </tr>\n",
       "  </tbody>\n",
       "</table>\n",
       "</div>"
      ],
      "text/plain": [
       "is_protected       Not protected  Protected  Totals  Percentage of Protected\n",
       "category                                                                    \n",
       "Amphibian                     73          7      80                     8.75\n",
       "Bird                         442         79     521                    15.16\n",
       "Fish                         116         11     127                     8.66\n",
       "Mammal                       176         38     214                    17.76\n",
       "Nonvascular Plant            328          5     333                     1.50\n",
       "Reptile                       74          5      79                     6.33\n",
       "Vascular Plant              4424         46    4470                     1.03"
      ]
     },
     "execution_count": 147,
     "metadata": {},
     "output_type": "execute_result"
    }
   ],
   "source": [
    "is_protected_by_category = species.groupby([\"category\",\"is_protected\"])['scientific_name'].count().unstack()\n",
    "is_protected_by_category[\"Totals\"] = is_protected_by_category[\"Not protected\"] + is_protected_by_category[\"Protected\"]\n",
    "is_protected_by_category[\"Percentage of Protected\"] = np.round((is_protected_by_category[\"Protected\"] / is_protected_by_category[\"Totals\"]) * 100, 2)\n",
    "is_protected_by_category"
   ]
  },
  {
   "cell_type": "markdown",
   "metadata": {},
   "source": [
    "Mammals and Fish are the categories with a higher percentage of Protected species. **Is Mammal likelihood of being protected (17.76%) significally higher than Fish (15.16%)**. Let's run a chi squared test to answer this question."
   ]
  },
  {
   "cell_type": "code",
   "execution_count": 148,
   "metadata": {},
   "outputs": [],
   "source": [
    "from scipy.stats import chi2_contingency"
   ]
  },
  {
   "cell_type": "code",
   "execution_count": 149,
   "metadata": {},
   "outputs": [
    {
     "data": {
      "text/html": [
       "<div>\n",
       "<style scoped>\n",
       "    .dataframe tbody tr th:only-of-type {\n",
       "        vertical-align: middle;\n",
       "    }\n",
       "\n",
       "    .dataframe tbody tr th {\n",
       "        vertical-align: top;\n",
       "    }\n",
       "\n",
       "    .dataframe thead th {\n",
       "        text-align: right;\n",
       "    }\n",
       "</style>\n",
       "<table border=\"1\" class=\"dataframe\">\n",
       "  <thead>\n",
       "    <tr style=\"text-align: right;\">\n",
       "      <th>is_protected</th>\n",
       "      <th>Not protected</th>\n",
       "      <th>Protected</th>\n",
       "    </tr>\n",
       "    <tr>\n",
       "      <th>category</th>\n",
       "      <th></th>\n",
       "      <th></th>\n",
       "    </tr>\n",
       "  </thead>\n",
       "  <tbody>\n",
       "    <tr>\n",
       "      <th>Bird</th>\n",
       "      <td>442</td>\n",
       "      <td>79</td>\n",
       "    </tr>\n",
       "    <tr>\n",
       "      <th>Mammal</th>\n",
       "      <td>176</td>\n",
       "      <td>38</td>\n",
       "    </tr>\n",
       "  </tbody>\n",
       "</table>\n",
       "</div>"
      ],
      "text/plain": [
       "is_protected  Not protected  Protected\n",
       "category                              \n",
       "Bird                    442         79\n",
       "Mammal                  176         38"
      ]
     },
     "execution_count": 149,
     "metadata": {},
     "output_type": "execute_result"
    }
   ],
   "source": [
    "contingency_mammal_bird = species[(species[\"category\"] == \"Bird\") | (species[\"category\"] == \"Mammal\") ].groupby([\"category\", \"is_protected\"])['scientific_name'].count().unstack()\n",
    "contingency_mammal_bird"
   ]
  },
  {
   "cell_type": "code",
   "execution_count": 150,
   "metadata": {},
   "outputs": [
    {
     "data": {
      "text/plain": [
       "array([[442,  79],\n",
       "       [176,  38]])"
      ]
     },
     "execution_count": 150,
     "metadata": {},
     "output_type": "execute_result"
    }
   ],
   "source": [
    "contingency_mammal_bird_array = np.array(contingency_mammal_bird)\n",
    "contingency_mammal_bird_array"
   ]
  },
  {
   "cell_type": "code",
   "execution_count": 151,
   "metadata": {},
   "outputs": [
    {
     "data": {
      "text/plain": [
       "(0.5810483277947567,\n",
       " 0.445901703047197,\n",
       " 1,\n",
       " array([[438.06530612,  82.93469388],\n",
       "        [179.93469388,  34.06530612]]))"
      ]
     },
     "execution_count": 151,
     "metadata": {},
     "output_type": "execute_result"
    }
   ],
   "source": [
    "chi2_contingency(contingency_mammal_bird_array)"
   ]
  },
  {
   "cell_type": "markdown",
   "metadata": {},
   "source": [
    "The chi-squared test returns a p-value of 0.45.  In this case, the p-value is much higher than a standard significance threshold of 5% (0.45 > 0.05), and this tell us the variables are independent therefore, there's no significant difference in protected percentage between mammals and birds."
   ]
  },
  {
   "cell_type": "markdown",
   "metadata": {},
   "source": [
    "Let's see if there's a significant difference with another group, Fish (8.66%). "
   ]
  },
  {
   "cell_type": "code",
   "execution_count": 152,
   "metadata": {},
   "outputs": [
    {
     "data": {
      "text/html": [
       "<div>\n",
       "<style scoped>\n",
       "    .dataframe tbody tr th:only-of-type {\n",
       "        vertical-align: middle;\n",
       "    }\n",
       "\n",
       "    .dataframe tbody tr th {\n",
       "        vertical-align: top;\n",
       "    }\n",
       "\n",
       "    .dataframe thead th {\n",
       "        text-align: right;\n",
       "    }\n",
       "</style>\n",
       "<table border=\"1\" class=\"dataframe\">\n",
       "  <thead>\n",
       "    <tr style=\"text-align: right;\">\n",
       "      <th>is_protected</th>\n",
       "      <th>Not protected</th>\n",
       "      <th>Protected</th>\n",
       "    </tr>\n",
       "    <tr>\n",
       "      <th>category</th>\n",
       "      <th></th>\n",
       "      <th></th>\n",
       "    </tr>\n",
       "  </thead>\n",
       "  <tbody>\n",
       "    <tr>\n",
       "      <th>Fish</th>\n",
       "      <td>116</td>\n",
       "      <td>11</td>\n",
       "    </tr>\n",
       "    <tr>\n",
       "      <th>Mammal</th>\n",
       "      <td>176</td>\n",
       "      <td>38</td>\n",
       "    </tr>\n",
       "  </tbody>\n",
       "</table>\n",
       "</div>"
      ],
      "text/plain": [
       "is_protected  Not protected  Protected\n",
       "category                              \n",
       "Fish                    116         11\n",
       "Mammal                  176         38"
      ]
     },
     "execution_count": 152,
     "metadata": {},
     "output_type": "execute_result"
    }
   ],
   "source": [
    "contingency_mammal_fish = species[(species[\"category\"] == \"Fish\") | (species[\"category\"] == \"Mammal\") ].groupby([\"category\", \"is_protected\"])['scientific_name'].count().unstack()\n",
    "contingency_mammal_fish"
   ]
  },
  {
   "cell_type": "code",
   "execution_count": 153,
   "metadata": {},
   "outputs": [
    {
     "data": {
      "text/plain": [
       "array([[116,  11],\n",
       "       [176,  38]])"
      ]
     },
     "execution_count": 153,
     "metadata": {},
     "output_type": "execute_result"
    }
   ],
   "source": [
    "contingency_mammal_fish_array = np.array(contingency_mammal_fish)\n",
    "contingency_mammal_fish_array"
   ]
  },
  {
   "cell_type": "code",
   "execution_count": 154,
   "metadata": {},
   "outputs": [
    {
     "data": {
      "text/plain": [
       "(4.644937895246063,\n",
       " 0.031145264082780604,\n",
       " 1,\n",
       " array([[108.75073314,  18.24926686],\n",
       "        [183.24926686,  30.75073314]]))"
      ]
     },
     "execution_count": 154,
     "metadata": {},
     "output_type": "execute_result"
    }
   ],
   "source": [
    "chi2_contingency(contingency_mammal_fish_array)"
   ]
  },
  {
   "cell_type": "markdown",
   "metadata": {},
   "source": [
    "The chi-squared test returns a p-value of 0.03. In this case, the p-value is lower than 0.05, and this tell us the variables are not independent therefore, there's a significant difference in protected percentage between Mammals and Fish."
   ]
  },
  {
   "cell_type": "markdown",
   "metadata": {},
   "source": [
    "## Observations by Park and by Category\n",
    "\n",
    "Now, let's take a look at the observations of species in different parks. To ease the analysis, first I will merge the observations table with the species table using \"scientific_name\" as common column."
   ]
  },
  {
   "cell_type": "code",
   "execution_count": 155,
   "metadata": {},
   "outputs": [
    {
     "data": {
      "text/html": [
       "<div>\n",
       "<style scoped>\n",
       "    .dataframe tbody tr th:only-of-type {\n",
       "        vertical-align: middle;\n",
       "    }\n",
       "\n",
       "    .dataframe tbody tr th {\n",
       "        vertical-align: top;\n",
       "    }\n",
       "\n",
       "    .dataframe thead th {\n",
       "        text-align: right;\n",
       "    }\n",
       "</style>\n",
       "<table border=\"1\" class=\"dataframe\">\n",
       "  <thead>\n",
       "    <tr style=\"text-align: right;\">\n",
       "      <th></th>\n",
       "      <th>scientific_name</th>\n",
       "      <th>park_name</th>\n",
       "      <th>observations</th>\n",
       "      <th>category</th>\n",
       "      <th>common_names</th>\n",
       "      <th>conservation_status</th>\n",
       "      <th>is_protected</th>\n",
       "    </tr>\n",
       "  </thead>\n",
       "  <tbody>\n",
       "    <tr>\n",
       "      <th>0</th>\n",
       "      <td>Vicia benghalensis</td>\n",
       "      <td>Great Smoky Mountains National Park</td>\n",
       "      <td>68</td>\n",
       "      <td>Vascular Plant</td>\n",
       "      <td>Purple Vetch, Reddish Tufted Vetch</td>\n",
       "      <td>NaN</td>\n",
       "      <td>Not protected</td>\n",
       "    </tr>\n",
       "    <tr>\n",
       "      <th>1</th>\n",
       "      <td>Vicia benghalensis</td>\n",
       "      <td>Yosemite National Park</td>\n",
       "      <td>148</td>\n",
       "      <td>Vascular Plant</td>\n",
       "      <td>Purple Vetch, Reddish Tufted Vetch</td>\n",
       "      <td>NaN</td>\n",
       "      <td>Not protected</td>\n",
       "    </tr>\n",
       "    <tr>\n",
       "      <th>2</th>\n",
       "      <td>Vicia benghalensis</td>\n",
       "      <td>Yellowstone National Park</td>\n",
       "      <td>247</td>\n",
       "      <td>Vascular Plant</td>\n",
       "      <td>Purple Vetch, Reddish Tufted Vetch</td>\n",
       "      <td>NaN</td>\n",
       "      <td>Not protected</td>\n",
       "    </tr>\n",
       "    <tr>\n",
       "      <th>3</th>\n",
       "      <td>Vicia benghalensis</td>\n",
       "      <td>Bryce National Park</td>\n",
       "      <td>104</td>\n",
       "      <td>Vascular Plant</td>\n",
       "      <td>Purple Vetch, Reddish Tufted Vetch</td>\n",
       "      <td>NaN</td>\n",
       "      <td>Not protected</td>\n",
       "    </tr>\n",
       "    <tr>\n",
       "      <th>4</th>\n",
       "      <td>Neovison vison</td>\n",
       "      <td>Great Smoky Mountains National Park</td>\n",
       "      <td>77</td>\n",
       "      <td>Mammal</td>\n",
       "      <td>American Mink</td>\n",
       "      <td>NaN</td>\n",
       "      <td>Not protected</td>\n",
       "    </tr>\n",
       "    <tr>\n",
       "      <th>...</th>\n",
       "      <td>...</td>\n",
       "      <td>...</td>\n",
       "      <td>...</td>\n",
       "      <td>...</td>\n",
       "      <td>...</td>\n",
       "      <td>...</td>\n",
       "      <td>...</td>\n",
       "    </tr>\n",
       "    <tr>\n",
       "      <th>25627</th>\n",
       "      <td>Gulo gulo</td>\n",
       "      <td>Yosemite National Park</td>\n",
       "      <td>157</td>\n",
       "      <td>Mammal</td>\n",
       "      <td>Wolverine</td>\n",
       "      <td>NaN</td>\n",
       "      <td>Not protected</td>\n",
       "    </tr>\n",
       "    <tr>\n",
       "      <th>25628</th>\n",
       "      <td>Dichanthelium depauperatum</td>\n",
       "      <td>Great Smoky Mountains National Park</td>\n",
       "      <td>88</td>\n",
       "      <td>Vascular Plant</td>\n",
       "      <td>Green Panic-Grass, Panic Grass</td>\n",
       "      <td>NaN</td>\n",
       "      <td>Not protected</td>\n",
       "    </tr>\n",
       "    <tr>\n",
       "      <th>25629</th>\n",
       "      <td>Dichanthelium depauperatum</td>\n",
       "      <td>Bryce National Park</td>\n",
       "      <td>80</td>\n",
       "      <td>Vascular Plant</td>\n",
       "      <td>Green Panic-Grass, Panic Grass</td>\n",
       "      <td>NaN</td>\n",
       "      <td>Not protected</td>\n",
       "    </tr>\n",
       "    <tr>\n",
       "      <th>25630</th>\n",
       "      <td>Dichanthelium depauperatum</td>\n",
       "      <td>Yellowstone National Park</td>\n",
       "      <td>255</td>\n",
       "      <td>Vascular Plant</td>\n",
       "      <td>Green Panic-Grass, Panic Grass</td>\n",
       "      <td>NaN</td>\n",
       "      <td>Not protected</td>\n",
       "    </tr>\n",
       "    <tr>\n",
       "      <th>25631</th>\n",
       "      <td>Dichanthelium depauperatum</td>\n",
       "      <td>Yosemite National Park</td>\n",
       "      <td>162</td>\n",
       "      <td>Vascular Plant</td>\n",
       "      <td>Green Panic-Grass, Panic Grass</td>\n",
       "      <td>NaN</td>\n",
       "      <td>Not protected</td>\n",
       "    </tr>\n",
       "  </tbody>\n",
       "</table>\n",
       "<p>25632 rows × 7 columns</p>\n",
       "</div>"
      ],
      "text/plain": [
       "                  scientific_name                            park_name  \\\n",
       "0              Vicia benghalensis  Great Smoky Mountains National Park   \n",
       "1              Vicia benghalensis               Yosemite National Park   \n",
       "2              Vicia benghalensis            Yellowstone National Park   \n",
       "3              Vicia benghalensis                  Bryce National Park   \n",
       "4                  Neovison vison  Great Smoky Mountains National Park   \n",
       "...                           ...                                  ...   \n",
       "25627                   Gulo gulo               Yosemite National Park   \n",
       "25628  Dichanthelium depauperatum  Great Smoky Mountains National Park   \n",
       "25629  Dichanthelium depauperatum                  Bryce National Park   \n",
       "25630  Dichanthelium depauperatum            Yellowstone National Park   \n",
       "25631  Dichanthelium depauperatum               Yosemite National Park   \n",
       "\n",
       "       observations        category                        common_names  \\\n",
       "0                68  Vascular Plant  Purple Vetch, Reddish Tufted Vetch   \n",
       "1               148  Vascular Plant  Purple Vetch, Reddish Tufted Vetch   \n",
       "2               247  Vascular Plant  Purple Vetch, Reddish Tufted Vetch   \n",
       "3               104  Vascular Plant  Purple Vetch, Reddish Tufted Vetch   \n",
       "4                77          Mammal                       American Mink   \n",
       "...             ...             ...                                 ...   \n",
       "25627           157          Mammal                           Wolverine   \n",
       "25628            88  Vascular Plant      Green Panic-Grass, Panic Grass   \n",
       "25629            80  Vascular Plant      Green Panic-Grass, Panic Grass   \n",
       "25630           255  Vascular Plant      Green Panic-Grass, Panic Grass   \n",
       "25631           162  Vascular Plant      Green Panic-Grass, Panic Grass   \n",
       "\n",
       "      conservation_status   is_protected  \n",
       "0                     NaN  Not protected  \n",
       "1                     NaN  Not protected  \n",
       "2                     NaN  Not protected  \n",
       "3                     NaN  Not protected  \n",
       "4                     NaN  Not protected  \n",
       "...                   ...            ...  \n",
       "25627                 NaN  Not protected  \n",
       "25628                 NaN  Not protected  \n",
       "25629                 NaN  Not protected  \n",
       "25630                 NaN  Not protected  \n",
       "25631                 NaN  Not protected  \n",
       "\n",
       "[25632 rows x 7 columns]"
      ]
     },
     "execution_count": 155,
     "metadata": {},
     "output_type": "execute_result"
    }
   ],
   "source": [
    "species_observations = observations.merge(species)\n",
    "species_observations"
   ]
  },
  {
   "cell_type": "markdown",
   "metadata": {},
   "source": [
    "Next, I will create a data set with the number of species by park and by category to see how they are distributed. "
   ]
  },
  {
   "cell_type": "code",
   "execution_count": 156,
   "metadata": {},
   "outputs": [
    {
     "data": {
      "text/html": [
       "<div>\n",
       "<style scoped>\n",
       "    .dataframe tbody tr th:only-of-type {\n",
       "        vertical-align: middle;\n",
       "    }\n",
       "\n",
       "    .dataframe tbody tr th {\n",
       "        vertical-align: top;\n",
       "    }\n",
       "\n",
       "    .dataframe thead th {\n",
       "        text-align: right;\n",
       "    }\n",
       "</style>\n",
       "<table border=\"1\" class=\"dataframe\">\n",
       "  <thead>\n",
       "    <tr style=\"text-align: right;\">\n",
       "      <th>category</th>\n",
       "      <th>Amphibian</th>\n",
       "      <th>Bird</th>\n",
       "      <th>Fish</th>\n",
       "      <th>Mammal</th>\n",
       "      <th>Nonvascular Plant</th>\n",
       "      <th>Reptile</th>\n",
       "      <th>Vascular Plant</th>\n",
       "    </tr>\n",
       "    <tr>\n",
       "      <th>park_name</th>\n",
       "      <th></th>\n",
       "      <th></th>\n",
       "      <th></th>\n",
       "      <th></th>\n",
       "      <th></th>\n",
       "      <th></th>\n",
       "      <th></th>\n",
       "    </tr>\n",
       "  </thead>\n",
       "  <tbody>\n",
       "    <tr>\n",
       "      <th>Bryce National Park</th>\n",
       "      <td>7542</td>\n",
       "      <td>58590</td>\n",
       "      <td>12823</td>\n",
       "      <td>28830</td>\n",
       "      <td>32992</td>\n",
       "      <td>8141</td>\n",
       "      <td>484373</td>\n",
       "    </tr>\n",
       "    <tr>\n",
       "      <th>Great Smoky Mountains National Park</th>\n",
       "      <td>5876</td>\n",
       "      <td>42869</td>\n",
       "      <td>9482</td>\n",
       "      <td>21056</td>\n",
       "      <td>24857</td>\n",
       "      <td>5841</td>\n",
       "      <td>364882</td>\n",
       "    </tr>\n",
       "    <tr>\n",
       "      <th>Yellowstone National Park</th>\n",
       "      <td>19937</td>\n",
       "      <td>144300</td>\n",
       "      <td>31459</td>\n",
       "      <td>70701</td>\n",
       "      <td>83021</td>\n",
       "      <td>20061</td>\n",
       "      <td>1218162</td>\n",
       "    </tr>\n",
       "    <tr>\n",
       "      <th>Yosemite National Park</th>\n",
       "      <td>11713</td>\n",
       "      <td>86612</td>\n",
       "      <td>19137</td>\n",
       "      <td>42533</td>\n",
       "      <td>49783</td>\n",
       "      <td>11779</td>\n",
       "      <td>727895</td>\n",
       "    </tr>\n",
       "  </tbody>\n",
       "</table>\n",
       "</div>"
      ],
      "text/plain": [
       "category                             Amphibian    Bird   Fish  Mammal  \\\n",
       "park_name                                                               \n",
       "Bryce National Park                       7542   58590  12823   28830   \n",
       "Great Smoky Mountains National Park       5876   42869   9482   21056   \n",
       "Yellowstone National Park                19937  144300  31459   70701   \n",
       "Yosemite National Park                   11713   86612  19137   42533   \n",
       "\n",
       "category                             Nonvascular Plant  Reptile  \\\n",
       "park_name                                                         \n",
       "Bryce National Park                              32992     8141   \n",
       "Great Smoky Mountains National Park              24857     5841   \n",
       "Yellowstone National Park                        83021    20061   \n",
       "Yosemite National Park                           49783    11779   \n",
       "\n",
       "category                             Vascular Plant  \n",
       "park_name                                            \n",
       "Bryce National Park                          484373  \n",
       "Great Smoky Mountains National Park          364882  \n",
       "Yellowstone National Park                   1218162  \n",
       "Yosemite National Park                       727895  "
      ]
     },
     "execution_count": 156,
     "metadata": {},
     "output_type": "execute_result"
    }
   ],
   "source": [
    "category_by_park = species_observations.groupby([\"park_name\", \"category\"])['observations'].sum().unstack()\n",
    "category_by_park"
   ]
  },
  {
   "cell_type": "code",
   "execution_count": 157,
   "metadata": {},
   "outputs": [
    {
     "data": {
      "image/png": "[encoded data removed]",
      "text/plain": [
       "<Figure size 1008x576 with 1 Axes>"
      ]
     },
     "metadata": {
      "needs_background": "light"
     },
     "output_type": "display_data"
    },
    {
     "data": {
      "text/plain": [
       "<Figure size 432x288 with 0 Axes>"
      ]
     },
     "metadata": {},
     "output_type": "display_data"
    }
   ],
   "source": [
    "ax = category_by_park.plot(kind = 'bar', figsize=(14,8), stacked=True, color = [\"#153B50\", \"#FAC748\", \"#72E1D1\", \"#8C4843\", \"#5F634F\", \"#32DE8A\" , \"#DBEFBC\"] )\n",
    "plt.xticks(rotation = 0)\n",
    "ax.set_xlabel(\"Park\")\n",
    "ax.set_ylabel(\"Number of observations\")\n",
    "plt.title(\"Observations of different categories by Park\")\n",
    "plt.show()\n",
    "plt.clf()"
   ]
  },
  {
   "cell_type": "markdown",
   "metadata": {},
   "source": [
    "Since Vascular plants observations are the most common type of observation by far, let's check  the distribution by category differentiating Plants and Animals to get a better view on both groups."
   ]
  },
  {
   "cell_type": "code",
   "execution_count": 158,
   "metadata": {},
   "outputs": [],
   "source": [
    "category_by_park_animals = species_observations[(species_observations.category != \"Vascular Plant\") & (species_observations.category != \"Nonvascular Plant\")]\n",
    "category_by_park_plants = species_observations[(species_observations.category == \"Vascular Plant\") | (species_observations.category == \"Nonvascular Plant\")]"
   ]
  },
  {
   "cell_type": "code",
   "execution_count": 159,
   "metadata": {},
   "outputs": [],
   "source": [
    "plants_by_park = category_by_park_plants.groupby([\"park_name\", \"category\"])['observations'].sum().unstack()\n",
    "animals_by_park = category_by_park_animals.groupby([\"park_name\", \"category\"])['observations'].sum().unstack()"
   ]
  },
  {
   "cell_type": "code",
   "execution_count": 160,
   "metadata": {},
   "outputs": [
    {
     "data": {
      "image/png": "[encoded data removed]",
      "text/plain": [
       "<Figure size 1008x576 with 1 Axes>"
      ]
     },
     "metadata": {
      "needs_background": "light"
     },
     "output_type": "display_data"
    },
    {
     "data": {
      "image/png": "[encoded data removed]",
      "text/plain": [
       "<Figure size 1008x576 with 1 Axes>"
      ]
     },
     "metadata": {
      "needs_background": "light"
     },
     "output_type": "display_data"
    },
    {
     "data": {
      "text/plain": [
       "<Figure size 432x288 with 0 Axes>"
      ]
     },
     "metadata": {},
     "output_type": "display_data"
    }
   ],
   "source": [
    "ax1 = plants_by_park.plot(kind = 'bar', figsize=(14,8), stacked=True, color = [\"#5F634F\", \"#DBEFBC\"])\n",
    "plt.xticks(rotation = 0)\n",
    "plt.title(\"Type of plant by National park\")\n",
    "ax2 = animals_by_park.plot(kind = 'bar', figsize=(14,8), stacked=True, color = [\"#153B50\", \"#FAC748\", \"#72E1D1\", \"#8C4843\", \"#32DE8A\"])\n",
    "plt.xticks(rotation = 0)\n",
    "plt.title(\"Type of animal by National park\")\n",
    "ax1.set_ylabel(\"Observations\")\n",
    "ax2.set_ylabel(\"Observations\")\n",
    "plt.show()\n",
    "plt.clf()"
   ]
  },
  {
   "cell_type": "markdown",
   "metadata": {},
   "source": [
    "- Yellowstone has the highest number of observations.\n",
    "- Among plants, Vascular plants are the most common observation in all parks.\n",
    "- Among Animals, Birds are the most common observation in all parks, followed by Mammals. "
   ]
  },
  {
   "cell_type": "markdown",
   "metadata": {},
   "source": [
    "## Conservation status by Park and by Category"
   ]
  },
  {
   "cell_type": "markdown",
   "metadata": {},
   "source": [
    "Now let's analyse if there's any relation between the conservation status and the percentage of observations."
   ]
  },
  {
   "cell_type": "code",
   "execution_count": 161,
   "metadata": {},
   "outputs": [
    {
     "data": {
      "text/plain": [
       "is_protected\n",
       "Not protected    3542326\n",
       "Protected         102921\n",
       "Name: observations, dtype: int64"
      ]
     },
     "execution_count": 161,
     "metadata": {},
     "output_type": "execute_result"
    }
   ],
   "source": [
    "is_protected_observations_distribution = species_observations.groupby(\"is_protected\").observations.sum()\n",
    "is_protected_observations_distribution"
   ]
  },
  {
   "cell_type": "code",
   "execution_count": 162,
   "metadata": {},
   "outputs": [
    {
     "data": {
      "image/png": "[encoded data removed]",
      "text/plain": [
       "<Figure size 800x600 with 1 Axes>"
      ]
     },
     "metadata": {},
     "output_type": "display_data"
    },
    {
     "data": {
      "text/plain": [
       "<Figure size 432x288 with 0 Axes>"
      ]
     },
     "metadata": {},
     "output_type": "display_data"
    }
   ],
   "source": [
    "is_protected_observations_distribution = species_observations.groupby(\"is_protected\").observations.sum()\n",
    "\n",
    "is_protected_obsertavations_labels = [\"Not protected\", \"Protected\"]\n",
    "is_protected_obsertavations_colors = [\"#FFD9DA\", \"#EE4266\"]\n",
    "\n",
    "plt.figure(figsize=(8, 6), dpi=100)\n",
    "plt.pie(is_protected_observations_distribution, labels = is_protected_obsertavations_labels, autopct='%1.1f%%', colors = is_protected_obsertavations_colors)\n",
    "plt.title(\"Protected Species represent 2.8% of total observations\")\n",
    "plt.show()\n",
    "plt.clf()"
   ]
  },
  {
   "cell_type": "markdown",
   "metadata": {},
   "source": [
    "While **protected species represent the 3.3% of all listed species**, they represent the **2.8% of all actual observations**, which means that they are observed less often than their actual representation. \n",
    "\n",
    "Let's get the same **distribution by Park**:"
   ]
  },
  {
   "cell_type": "code",
   "execution_count": 163,
   "metadata": {},
   "outputs": [],
   "source": [
    "bryce_observations = species_observations[species_observations.park_name == \"Bryce National Park\"].groupby(\"is_protected\").sum()\n",
    "greatsmoky_observations = species_observations[species_observations.park_name  == \"Great Smoky Mountains National Park\"].groupby(\"is_protected\").sum()\n",
    "yellowtone_observations = species_observations[species_observations.park_name  == \"Yellowstone National Park\"].groupby(\"is_protected\").sum()\n",
    "yosemite_observations = species_observations[species_observations.park_name  == \"Yosemite National Park\"].groupby(\"is_protected\").sum()\n",
    "\n",
    "\n",
    "bryce_observations.reset_index(inplace = True)\n",
    "greatsmoky_observations.reset_index(inplace = True)\n",
    "yellowtone_observations.reset_index(inplace = True)\n",
    "yosemite_observations.reset_index(inplace = True)\n",
    "\n"
   ]
  },
  {
   "cell_type": "code",
   "execution_count": 164,
   "metadata": {},
   "outputs": [
    {
     "data": {
      "image/png": "[encoded data removed]",
      "text/plain": [
       "<Figure size 1200x800 with 4 Axes>"
      ]
     },
     "metadata": {},
     "output_type": "display_data"
    },
    {
     "data": {
      "text/plain": [
       "<Figure size 432x288 with 0 Axes>"
      ]
     },
     "metadata": {},
     "output_type": "display_data"
    }
   ],
   "source": [
    "is_protected_obsertavations_labels = [\"Not protected\", \"Protected\"]\n",
    "is_protected_obsertavations_colors = [\"#F2E9E4\", \"#FFBF46\"]\n",
    "\n",
    "plt.figure(figsize=(12, 8), dpi=100)\n",
    "\n",
    "ax1 = plt.subplot(2,2,1)\n",
    "plt.pie(bryce_observations[\"observations\"], labels = is_protected_obsertavations_labels,  autopct='%1.1f%%', colors = is_protected_obsertavations_colors)\n",
    "plt.title(\"Bryce NP Observations\")\n",
    "\n",
    "ax2 = plt.subplot(2,2,2)\n",
    "plt.pie(greatsmoky_observations[\"observations\"], labels = is_protected_obsertavations_labels,  autopct='%1.1f%%', colors = is_protected_obsertavations_colors)\n",
    "plt.title(\"Great Smoky Mountains NP Observations\")\n",
    "\n",
    "ax3 = plt.subplot(2,2,3)\n",
    "plt.pie(yellowtone_observations[\"observations\"], labels = is_protected_obsertavations_labels,  autopct='%1.1f%%', colors = is_protected_obsertavations_colors)\n",
    "plt.title(\"Yellowstone NP Observations\")\n",
    "\n",
    "ax4 = plt.subplot(2,2,4)\n",
    "plt.pie(yosemite_observations[\"observations\"], labels = is_protected_obsertavations_labels,  autopct='%1.1f%%', colors = is_protected_obsertavations_colors)\n",
    "plt.title(\"Yosemite NP Observations\")\n",
    "\n",
    "\n",
    "\n",
    "plt.subplots_adjust(left=0.1,\n",
    "                    bottom=0.3, \n",
    "                    right=0.7, \n",
    "                    top=1,\n",
    "                    wspace=0.4, \n",
    "                    hspace=0.4)\n",
    "\n",
    "plt.show()\n",
    "plt.clf()"
   ]
  },
  {
   "cell_type": "markdown",
   "metadata": {},
   "source": [
    "The distrubution of observations protected vs not-protected is similar between parks. \n",
    "\n",
    "Now, let's check if there's difference in **distribution on type of observation (Protected vs. Not protected) by category of species**:"
   ]
  },
  {
   "cell_type": "code",
   "execution_count": 165,
   "metadata": {
    "scrolled": true
   },
   "outputs": [
    {
     "data": {
      "text/html": [
       "<div>\n",
       "<style scoped>\n",
       "    .dataframe tbody tr th:only-of-type {\n",
       "        vertical-align: middle;\n",
       "    }\n",
       "\n",
       "    .dataframe tbody tr th {\n",
       "        vertical-align: top;\n",
       "    }\n",
       "\n",
       "    .dataframe thead th {\n",
       "        text-align: right;\n",
       "    }\n",
       "</style>\n",
       "<table border=\"1\" class=\"dataframe\">\n",
       "  <thead>\n",
       "    <tr style=\"text-align: right;\">\n",
       "      <th>is_protected</th>\n",
       "      <th>Not protected</th>\n",
       "      <th>Protected</th>\n",
       "      <th>Totals P/Non-P</th>\n",
       "      <th>% Protected</th>\n",
       "      <th>% of Not Protected</th>\n",
       "      <th>Obs of protected</th>\n",
       "      <th>Obs of non-protected</th>\n",
       "      <th>Total Obs</th>\n",
       "      <th>% Obs Protected</th>\n",
       "      <th>% Obs of Not Protected</th>\n",
       "    </tr>\n",
       "    <tr>\n",
       "      <th>category</th>\n",
       "      <th></th>\n",
       "      <th></th>\n",
       "      <th></th>\n",
       "      <th></th>\n",
       "      <th></th>\n",
       "      <th></th>\n",
       "      <th></th>\n",
       "      <th></th>\n",
       "      <th></th>\n",
       "      <th></th>\n",
       "    </tr>\n",
       "  </thead>\n",
       "  <tbody>\n",
       "    <tr>\n",
       "      <th>Mammal</th>\n",
       "      <td>968</td>\n",
       "      <td>232</td>\n",
       "      <td>1200</td>\n",
       "      <td>19.33</td>\n",
       "      <td>80.67</td>\n",
       "      <td>25146</td>\n",
       "      <td>137974</td>\n",
       "      <td>163120</td>\n",
       "      <td>15.42</td>\n",
       "      <td>84.58</td>\n",
       "    </tr>\n",
       "    <tr>\n",
       "      <th>Bird</th>\n",
       "      <td>2016</td>\n",
       "      <td>348</td>\n",
       "      <td>2364</td>\n",
       "      <td>14.72</td>\n",
       "      <td>85.28</td>\n",
       "      <td>42724</td>\n",
       "      <td>289647</td>\n",
       "      <td>332371</td>\n",
       "      <td>12.85</td>\n",
       "      <td>87.15</td>\n",
       "    </tr>\n",
       "    <tr>\n",
       "      <th>Fish</th>\n",
       "      <td>476</td>\n",
       "      <td>48</td>\n",
       "      <td>524</td>\n",
       "      <td>9.16</td>\n",
       "      <td>90.84</td>\n",
       "      <td>4209</td>\n",
       "      <td>68692</td>\n",
       "      <td>72901</td>\n",
       "      <td>5.77</td>\n",
       "      <td>94.23</td>\n",
       "    </tr>\n",
       "    <tr>\n",
       "      <th>Amphibian</th>\n",
       "      <td>300</td>\n",
       "      <td>28</td>\n",
       "      <td>328</td>\n",
       "      <td>8.54</td>\n",
       "      <td>91.46</td>\n",
       "      <td>2752</td>\n",
       "      <td>42316</td>\n",
       "      <td>45068</td>\n",
       "      <td>6.11</td>\n",
       "      <td>93.89</td>\n",
       "    </tr>\n",
       "    <tr>\n",
       "      <th>Reptile</th>\n",
       "      <td>304</td>\n",
       "      <td>20</td>\n",
       "      <td>324</td>\n",
       "      <td>6.17</td>\n",
       "      <td>93.83</td>\n",
       "      <td>2536</td>\n",
       "      <td>43286</td>\n",
       "      <td>45822</td>\n",
       "      <td>5.53</td>\n",
       "      <td>94.47</td>\n",
       "    </tr>\n",
       "    <tr>\n",
       "      <th>Nonvascular Plant</th>\n",
       "      <td>1312</td>\n",
       "      <td>20</td>\n",
       "      <td>1332</td>\n",
       "      <td>1.50</td>\n",
       "      <td>98.50</td>\n",
       "      <td>2705</td>\n",
       "      <td>187948</td>\n",
       "      <td>190653</td>\n",
       "      <td>1.42</td>\n",
       "      <td>98.58</td>\n",
       "    </tr>\n",
       "    <tr>\n",
       "      <th>Vascular Plant</th>\n",
       "      <td>19376</td>\n",
       "      <td>184</td>\n",
       "      <td>19560</td>\n",
       "      <td>0.94</td>\n",
       "      <td>99.06</td>\n",
       "      <td>22849</td>\n",
       "      <td>2772463</td>\n",
       "      <td>2795312</td>\n",
       "      <td>0.82</td>\n",
       "      <td>99.18</td>\n",
       "    </tr>\n",
       "  </tbody>\n",
       "</table>\n",
       "</div>"
      ],
      "text/plain": [
       "is_protected       Not protected  Protected  Totals P/Non-P  % Protected  \\\n",
       "category                                                                   \n",
       "Mammal                       968        232            1200        19.33   \n",
       "Bird                        2016        348            2364        14.72   \n",
       "Fish                         476         48             524         9.16   \n",
       "Amphibian                    300         28             328         8.54   \n",
       "Reptile                      304         20             324         6.17   \n",
       "Nonvascular Plant           1312         20            1332         1.50   \n",
       "Vascular Plant             19376        184           19560         0.94   \n",
       "\n",
       "is_protected       % of Not Protected  Obs of protected  Obs of non-protected  \\\n",
       "category                                                                        \n",
       "Mammal                          80.67             25146                137974   \n",
       "Bird                            85.28             42724                289647   \n",
       "Fish                            90.84              4209                 68692   \n",
       "Amphibian                       91.46              2752                 42316   \n",
       "Reptile                         93.83              2536                 43286   \n",
       "Nonvascular Plant               98.50              2705                187948   \n",
       "Vascular Plant                  99.06             22849               2772463   \n",
       "\n",
       "is_protected       Total Obs  % Obs Protected  % Obs of Not Protected  \n",
       "category                                                               \n",
       "Mammal                163120            15.42                   84.58  \n",
       "Bird                  332371            12.85                   87.15  \n",
       "Fish                   72901             5.77                   94.23  \n",
       "Amphibian              45068             6.11                   93.89  \n",
       "Reptile                45822             5.53                   94.47  \n",
       "Nonvascular Plant     190653             1.42                   98.58  \n",
       "Vascular Plant       2795312             0.82                   99.18  "
      ]
     },
     "execution_count": 165,
     "metadata": {},
     "output_type": "execute_result"
    }
   ],
   "source": [
    "observations_is_protected_by_category = species_observations.groupby([\"category\",\"is_protected\"])['scientific_name'].count().unstack()\n",
    "observations_is_protected_by_category[\"Totals P/Non-P\"] = observations_is_protected_by_category[\"Not protected\"] + observations_is_protected_by_category[\"Protected\"]\n",
    "observations_is_protected_by_category[\"% Protected\"] = np.round((observations_is_protected_by_category[\"Protected\"] / observations_is_protected_by_category[\"Totals P/Non-P\"]) * 100, 2)\n",
    "observations_is_protected_by_category[\"% of Not Protected\"] = np.round((observations_is_protected_by_category[\"Not protected\"] / observations_is_protected_by_category[\"Totals P/Non-P\"]) * 100, 2)\n",
    "\n",
    "observations_is_protected_by_category[\"Obs of protected\"] =  species_observations[species_observations.is_protected == \"Protected\"].groupby(\"category\")['observations'].sum()\n",
    "observations_is_protected_by_category[\"Obs of non-protected\"] = species_observations[species_observations.is_protected == \"Not protected\"].groupby(\"category\")['observations'].sum()\n",
    "\n",
    "\n",
    "observations_is_protected_by_category[\"Total Obs\"] = observations_is_protected_by_category[\"Obs of protected\"] + observations_is_protected_by_category[\"Obs of non-protected\"]\n",
    "observations_is_protected_by_category[\"% Obs Protected\"] = np.round((observations_is_protected_by_category[\"Obs of protected\"] / observations_is_protected_by_category[\"Total Obs\"]) * 100, 2)\n",
    "observations_is_protected_by_category[\"% Obs of Not Protected\"] = np.round((observations_is_protected_by_category[\"Obs of non-protected\"] / observations_is_protected_by_category[\"Total Obs\"]) * 100, 2)\n",
    "\n",
    "\n",
    "observations_is_protected_by_category.sort_values(by=[\"% of Not Protected\"])\n",
    "\n",
    "\n",
    "\n",
    "\n"
   ]
  },
  {
   "cell_type": "markdown",
   "metadata": {},
   "source": [
    "With this table we can see that Vascular Plants (the most frequent category) were affecting the global percentage quite a lot (where protected species represented only de 2.8% of the total observations). Looking more in detail we see how in all categories the % of observations of protected species is lower than their actual representation but the distribution varies quite a lot depending on the category. \n",
    "\n",
    "Let's visualize in pie charts, side by side, **the distribution of conservation status counts (number of species) and the destribution of conservation status observations by category**. "
   ]
  },
  {
   "cell_type": "code",
   "execution_count": 166,
   "metadata": {},
   "outputs": [
    {
     "data": {
      "image/png": "[encoded data removed]",
      "text/plain": [
       "<Figure size 1800x1200 with 14 Axes>"
      ]
     },
     "metadata": {},
     "output_type": "display_data"
    },
    {
     "data": {
      "text/plain": [
       "<Figure size 432x288 with 0 Axes>"
      ]
     },
     "metadata": {},
     "output_type": "display_data"
    }
   ],
   "source": [
    "is_protected_obsertavations_labels = [\"Not protected\", \"Protected\"]\n",
    "is_protected_obsertavations_colors = [\"#D3F3EE\", \"#119DA4\"]\n",
    "is_protected_status_labels = [\"Not protected\", \"Protected\"]\n",
    "is_protected_status_colors = [\"#F2E9E4\", \"#9A8C98\"]\n",
    "\n",
    "plt.figure(figsize=(15, 10), dpi=120)\n",
    "\n",
    "ax1 = plt.subplot(7,2,1)\n",
    "plt.pie(mammals_status[\"observations\"], labels = is_protected_status_labels,  autopct='%1.1f%%', pctdistance=0.6, colors = is_protected_status_colors)\n",
    "plt.title(\"Mammals status\")\n",
    "\n",
    "ax2 = plt.subplot(7,2,2)\n",
    "plt.pie(mammals_observations[\"observations\"], labels = is_protected_obsertavations_labels,  autopct='%1.1f%%', colors = is_protected_obsertavations_colors)\n",
    "plt.title(\"Mammals observations\")\n",
    "\n",
    "\n",
    "ax3 = plt.subplot(7,2,3)\n",
    "plt.pie(bird_status[\"observations\"], labels = is_protected_status_labels,  autopct='%1.1f%%', colors = is_protected_status_colors)\n",
    "plt.title(\"Birds status\")\n",
    "\n",
    "ax4 = plt.subplot(7,2,4)\n",
    "plt.pie(bird_observations[\"observations\"], labels = is_protected_obsertavations_labels,  autopct='%1.1f%%', colors = is_protected_obsertavations_colors)\n",
    "plt.title(\"Birds observations\")\n",
    "\n",
    "\n",
    "\n",
    "ax5 = plt.subplot(7,2,5)\n",
    "plt.pie(fish_status[\"observations\"], labels = is_protected_status_labels,  autopct='%1.1f%%', colors = is_protected_status_colors)\n",
    "plt.title(\"Fish status\")\n",
    "\n",
    "ax6 = plt.subplot(7,2,6)\n",
    "plt.pie(fish_observations[\"observations\"], labels = is_protected_obsertavations_labels,  autopct='%1.1f%%', colors = is_protected_obsertavations_colors)\n",
    "plt.title(\"Fish observations\")\n",
    "\n",
    "\n",
    "\n",
    "ax7 = plt.subplot(7,2,7)\n",
    "plt.pie(amphibian_status[\"observations\"], labels = is_protected_status_labels,  autopct='%1.1f%%', colors = is_protected_status_colors)\n",
    "plt.title(\"Amphibians status\")\n",
    "\n",
    "ax8 = plt.subplot(7,2,8)\n",
    "plt.pie(amphibian_observations[\"observations\"], labels = is_protected_obsertavations_labels,  autopct='%1.1f%%', colors = is_protected_obsertavations_colors)\n",
    "plt.title(\"Amphibians observations\")\n",
    "\n",
    "\n",
    "\n",
    "ax9 = plt.subplot(7,2,9)\n",
    "plt.pie(reptile_status[\"observations\"], labels = is_protected_status_labels,  autopct='%1.1f%%', colors = is_protected_status_colors)\n",
    "plt.title(\"Reptiles status\")\n",
    "\n",
    "ax10 = plt.subplot(7,2,10)\n",
    "plt.pie(reptile_observations[\"observations\"], labels = is_protected_obsertavations_labels,  autopct='%1.1f%%', colors = is_protected_obsertavations_colors)\n",
    "plt.title(\"Reptiles observations\")\n",
    "\n",
    "\n",
    "\n",
    "ax11 = plt.subplot(7,2,11)\n",
    "plt.pie(nonvascular_status[\"observations\"], labels = is_protected_status_labels, autopct='%1.1f%%', colors = is_protected_status_colors, normalize=True)\n",
    "plt.title(\"Nonvascular status\")\n",
    "\n",
    "ax12 = plt.subplot(7,2,12)\n",
    "plt.pie(nonvascular_observations[\"observations\"], labels = is_protected_obsertavations_labels, autopct='%1.1f%%', colors = is_protected_obsertavations_colors, normalize=True)\n",
    "plt.title(\"Nonvascular observations\")\n",
    "\n",
    "\n",
    "\n",
    "ax13 = plt.subplot(7,2,13)\n",
    "plt.pie(vascular_status[\"observations\"], labels = is_protected_status_labels, autopct='%1.1f%%', colors = is_protected_status_colors, normalize=True )\n",
    "plt.title(\"Vascular status\")\n",
    "\n",
    "ax14 = plt.subplot(7,2,14)\n",
    "plt.pie(vascular_observations[\"observations\"], labels = is_protected_obsertavations_labels, autopct='%1.1f%%', colors = is_protected_obsertavations_colors, normalize=True )\n",
    "plt.title(\"Vascular observations\")\n",
    "\n",
    "\n",
    "\n",
    "\n",
    "plt.subplots_adjust(left=0.1,\n",
    "                    bottom=0.1, \n",
    "                    right=0.5, \n",
    "                    top=1.5, \n",
    "                    wspace=0.3, \n",
    "                    hspace=0.3)\n",
    "\n",
    "plt.show()\n",
    "plt.clf()\n",
    "\n"
   ]
  },
  {
   "cell_type": "code",
   "execution_count": null,
   "metadata": {},
   "outputs": [],
   "source": []
  },
  {
   "cell_type": "code",
   "execution_count": null,
   "metadata": {},
   "outputs": [],
   "source": []
  },
  {
   "cell_type": "code",
   "execution_count": null,
   "metadata": {},
   "outputs": [],
   "source": []
  }
 ],
 "metadata": {
  "kernelspec": {
   "display_name": "Python 3",
   "language": "python",
   "name": "python3"
  },
  "language_info": {
   "codemirror_mode": {
    "name": "ipython",
    "version": 3
   },
   "file_extension": ".py",
   "mimetype": "text/x-python",
   "name": "python",
   "nbconvert_exporter": "python",
   "pygments_lexer": "ipython3",
   "version": "3.8.8"
  }
 },
 "nbformat": 4,
 "nbformat_minor": 4
}
